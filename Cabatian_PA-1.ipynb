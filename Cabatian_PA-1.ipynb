{
 "cells": [
  {
   "cell_type": "markdown",
   "id": "6cee77e4-3089-4929-a03f-9c8f0e3fa72c",
   "metadata": {},
   "source": [
    "# 1. Alphabet Soup Problem"
   ]
  },
  {
   "cell_type": "code",
   "execution_count": 1,
   "id": "3c427edb-83ab-451f-84e3-bd5424e61707",
   "metadata": {},
   "outputs": [
    {
     "name": "stdout",
     "output_type": "stream",
     "text": [
      "ehllo\n",
      "acehkr\n"
     ]
    }
   ],
   "source": [
    "def alphabet_soup(s):\n",
    "    # Sort the characters in the string in alphabetical order.\n",
    "    print (\"\". join(sorted(s)))                         \n",
    "# Use the string to perform the function\n",
    "alphabet_soup(\"hello\")\n",
    "alphabet_soup(\"hacker\")"
   ]
  },
  {
   "cell_type": "markdown",
   "id": "6d519080-6daa-451c-b59e-a7fcf22844a3",
   "metadata": {},
   "source": [
    "# 2. Emoticon Problem"
   ]
  },
  {
   "cell_type": "code",
   "execution_count": 2,
   "id": "257b86c8-bb2f-4807-aea5-166435b17a94",
   "metadata": {},
   "outputs": [
    {
     "name": "stdout",
     "output_type": "stream",
     "text": [
      "Make me :)\n",
      "I am >:(\n"
     ]
    }
   ],
   "source": [
    "def emotify(s):\n",
    "    # Remove \"smile\" and replace with \":)\" instead.\n",
    "    s = s.replace (\"Smile\", \":)\")\n",
    "    # Remove \"Grin\" and replace with \":D\" instead.\n",
    "    s = s.replace (\"Grin\", \":D)\")\n",
    "    # Remove \"Sad\" and replace with \":((\" instead.\n",
    "    s = s.replace (\"Sad\", \":((\")\n",
    "    # Remove \"Nad\" and replace with \"›:(\" instead.\n",
    "    s = s.replace (\"Mad\", \">:(\")\n",
    "    #Return the modified string with s.\n",
    "    return s\n",
    "    #Print the output of the function.\n",
    "print(emotify(\"Make me Smile\"))\n",
    "print(emotify(\"I am Mad\"))"
   ]
  },
  {
   "cell_type": "markdown",
   "id": "c8e9a307-cd4f-4899-bba6-b2d47c3fa56d",
   "metadata": {},
   "source": [
    "# 3. Unpacking List Problem"
   ]
  },
  {
   "cell_type": "code",
   "execution_count": 3,
   "id": "33c063d9-0003-4f70-b47a-e8dd7a01aab1",
   "metadata": {},
   "outputs": [
    {
     "name": "stdout",
     "output_type": "stream",
     "text": [
      "first: 1,   middle: [2, 3, 4, 5],   last: 6\n"
     ]
    }
   ],
   "source": [
    "def unpack_list(lst):\n",
    "    # Open the first element.\n",
    "    first = lst[0]\n",
    "    # Open the middle element.\n",
    "    middle = lst[1:-1]\n",
    "    # Open the last element.\n",
    "    last = lst[-1]\n",
    "    # Print the output.\n",
    "    print (\"first: {},   middle: {},   last: {}\". format(first, middle, last))\n",
    "\n",
    "unpack_list (lst = [1, 2, 3, 4, 5, 6])"
   ]
  }
 ],
 "metadata": {
  "kernelspec": {
   "display_name": "Python [conda env:base] *",
   "language": "python",
   "name": "conda-base-py"
  },
  "language_info": {
   "codemirror_mode": {
    "name": "ipython",
    "version": 3
   },
   "file_extension": ".py",
   "mimetype": "text/x-python",
   "name": "python",
   "nbconvert_exporter": "python",
   "pygments_lexer": "ipython3",
   "version": "3.13.5"
  }
 },
 "nbformat": 4,
 "nbformat_minor": 5
}
